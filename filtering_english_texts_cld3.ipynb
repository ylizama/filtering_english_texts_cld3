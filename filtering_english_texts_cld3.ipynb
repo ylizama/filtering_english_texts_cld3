{
 "cells": [
  {
   "cell_type": "markdown",
   "metadata": {},
   "source": [
    "# 1. Install and Import Libraries"
   ]
  },
  {
   "cell_type": "code",
   "execution_count": 1,
   "metadata": {
    "scrolled": true
   },
   "outputs": [
    {
     "name": "stdout",
     "output_type": "stream",
     "text": [
      "Requirement already satisfied: seaborn in /Users/cultureplex/opt/anaconda3/lib/python3.8/site-packages (0.11.0)\n",
      "Requirement already satisfied: scipy>=1.0 in /Users/cultureplex/opt/anaconda3/lib/python3.8/site-packages (from seaborn) (1.5.2)\n",
      "Requirement already satisfied: matplotlib>=2.2 in /Users/cultureplex/opt/anaconda3/lib/python3.8/site-packages (from seaborn) (3.3.2)\n",
      "Requirement already satisfied: pandas>=0.23 in /Users/cultureplex/opt/anaconda3/lib/python3.8/site-packages (from seaborn) (1.1.3)\n",
      "Requirement already satisfied: numpy>=1.15 in /Users/cultureplex/opt/anaconda3/lib/python3.8/site-packages (from seaborn) (1.19.2)\n",
      "Requirement already satisfied: kiwisolver>=1.0.1 in /Users/cultureplex/opt/anaconda3/lib/python3.8/site-packages (from matplotlib>=2.2->seaborn) (1.3.0)\n",
      "Requirement already satisfied: certifi>=2020.06.20 in /Users/cultureplex/opt/anaconda3/lib/python3.8/site-packages (from matplotlib>=2.2->seaborn) (2020.6.20)\n",
      "Requirement already satisfied: cycler>=0.10 in /Users/cultureplex/opt/anaconda3/lib/python3.8/site-packages (from matplotlib>=2.2->seaborn) (0.10.0)\n",
      "Requirement already satisfied: python-dateutil>=2.1 in /Users/cultureplex/opt/anaconda3/lib/python3.8/site-packages (from matplotlib>=2.2->seaborn) (2.8.1)\n",
      "Requirement already satisfied: pyparsing!=2.0.4,!=2.1.2,!=2.1.6,>=2.0.3 in /Users/cultureplex/opt/anaconda3/lib/python3.8/site-packages (from matplotlib>=2.2->seaborn) (2.4.7)\n",
      "Requirement already satisfied: pillow>=6.2.0 in /Users/cultureplex/opt/anaconda3/lib/python3.8/site-packages (from matplotlib>=2.2->seaborn) (8.0.1)\n",
      "Requirement already satisfied: pytz>=2017.2 in /Users/cultureplex/opt/anaconda3/lib/python3.8/site-packages (from pandas>=0.23->seaborn) (2020.1)\n",
      "Requirement already satisfied: six in /Users/cultureplex/opt/anaconda3/lib/python3.8/site-packages (from cycler>=0.10->matplotlib>=2.2->seaborn) (1.15.0)\n",
      "Requirement already satisfied: xlrd in /Users/cultureplex/opt/anaconda3/lib/python3.8/site-packages (1.2.0)\n",
      "Requirement already up-to-date: pycld3 in /Users/cultureplex/opt/anaconda3/lib/python3.8/site-packages (0.22)\n"
     ]
    }
   ],
   "source": [
    "!pip install seaborn\n",
    "!pip install xlrd\n",
    "#!pip install https://github.com/aboSamoor/pycld2/zipball/e3ac86ed4d4902e912691c1531d0c5645382a726\n",
    "!python -m pip install -U pycld3"
   ]
  },
  {
   "cell_type": "code",
   "execution_count": 2,
   "metadata": {},
   "outputs": [],
   "source": [
    "import csv, os\n",
    "import pandas as pd\n",
    "import matplotlib\n",
    "import cld3\n",
    "from pathlib import Path"
   ]
  },
  {
   "cell_type": "markdown",
   "metadata": {},
   "source": [
    "# 2. Settings"
   ]
  },
  {
   "cell_type": "code",
   "execution_count": 3,
   "metadata": {},
   "outputs": [],
   "source": [
    "#pd.set_option('display.max_colwidth', None)\n",
    "#pd.set_option('display.max_rows', 500)\n",
    "#pd.set_option('display.max_columns', 500)\n",
    "#pd.set_option('display.width', 1000)"
   ]
  },
  {
   "cell_type": "markdown",
   "metadata": {},
   "source": [
    "# 3. Functions"
   ]
  },
  {
   "cell_type": "code",
   "execution_count": 4,
   "metadata": {},
   "outputs": [],
   "source": [
    "#filter records that are 90% written in english. \n",
    "def filter_english_records(df):    \n",
    "    df['language'] = \"\"\n",
    "    for idx, row in df.iterrows():         \n",
    "        language = \"\"\n",
    "        maxx = 0\n",
    "        for lang in cld3.get_frequent_languages(row['text'],num_langs=3):\n",
    "            if lang.proportion > maxx:\n",
    "                language = lang\n",
    "                maxx = lang.proportion\n",
    "\n",
    "        if (language):\n",
    "            if (language.proportion >= 0.9): #90%\n",
    "                df.loc[idx, \"language\"] = language.language\n",
    "            else:            \n",
    "                df.loc[idx, \"language\"] = 'multiple'\n",
    "        else:        \n",
    "            df.loc[idx, \"language\"] = 'undefined'\n",
    "    return df"
   ]
  },
  {
   "cell_type": "markdown",
   "metadata": {},
   "source": [
    "# 4. Filter english texts"
   ]
  },
  {
   "cell_type": "markdown",
   "metadata": {},
   "source": [
    "## 4.1 Distribution of languague"
   ]
  },
  {
   "cell_type": "code",
   "execution_count": 5,
   "metadata": {},
   "outputs": [
    {
     "name": "stdout",
     "output_type": "stream",
     "text": [
      "2067 FanFiction stories\n"
     ]
    },
    {
     "data": {
      "text/html": [
       "<div>\n",
       "<style scoped>\n",
       "    .dataframe tbody tr th:only-of-type {\n",
       "        vertical-align: middle;\n",
       "    }\n",
       "\n",
       "    .dataframe tbody tr th {\n",
       "        vertical-align: top;\n",
       "    }\n",
       "\n",
       "    .dataframe thead th {\n",
       "        text-align: right;\n",
       "    }\n",
       "</style>\n",
       "<table border=\"1\" class=\"dataframe\">\n",
       "  <thead>\n",
       "    <tr style=\"text-align: right;\">\n",
       "      <th></th>\n",
       "      <th>title</th>\n",
       "      <th>text</th>\n",
       "    </tr>\n",
       "  </thead>\n",
       "  <tbody>\n",
       "    <tr>\n",
       "      <th>0</th>\n",
       "      <td>The_Start_of_Our_Life_Together_by_Stagelove123...</td>\n",
       "      <td>\\nChapter 1 Hey guys! So, after I wrote the st...</td>\n",
       "    </tr>\n",
       "    <tr>\n",
       "      <th>1</th>\n",
       "      <td>Full_Metal_Stratos_by_Grimm48-g8fp3r2o.txt</td>\n",
       "      <td>\\nChapter 1Full Metal StratosDisclaimer: I don...</td>\n",
       "    </tr>\n",
       "    <tr>\n",
       "      <th>2</th>\n",
       "      <td>Expect_The_Unexpected_by_sonxathatbruhgirl-nli...</td>\n",
       "      <td>\\nChapter One A/N: Hiii guys.So I'm doing a ne...</td>\n",
       "    </tr>\n",
       "    <tr>\n",
       "      <th>3</th>\n",
       "      <td>A_Rookie_s_Courage_by_CanadaGrizzly-uxc6kcgd.txt</td>\n",
       "      <td>\\nA Rookie's CourageThe wind whipped her hair ...</td>\n",
       "    </tr>\n",
       "    <tr>\n",
       "      <th>4</th>\n",
       "      <td>Watashi_koi_shiteru_by_alxslava-q8aodmgc.txt</td>\n",
       "      <td>\\nComprender a una personaWatashi, koi shiteru...</td>\n",
       "    </tr>\n",
       "  </tbody>\n",
       "</table>\n",
       "</div>"
      ],
      "text/plain": [
       "                                               title  \\\n",
       "0  The_Start_of_Our_Life_Together_by_Stagelove123...   \n",
       "1         Full_Metal_Stratos_by_Grimm48-g8fp3r2o.txt   \n",
       "2  Expect_The_Unexpected_by_sonxathatbruhgirl-nli...   \n",
       "3   A_Rookie_s_Courage_by_CanadaGrizzly-uxc6kcgd.txt   \n",
       "4       Watashi_koi_shiteru_by_alxslava-q8aodmgc.txt   \n",
       "\n",
       "                                                text  \n",
       "0  \\nChapter 1 Hey guys! So, after I wrote the st...  \n",
       "1  \\nChapter 1Full Metal StratosDisclaimer: I don...  \n",
       "2  \\nChapter One A/N: Hiii guys.So I'm doing a ne...  \n",
       "3  \\nA Rookie's CourageThe wind whipped her hair ...  \n",
       "4  \\nComprender a una personaWatashi, koi shiteru...  "
      ]
     },
     "execution_count": 5,
     "metadata": {},
     "output_type": "execute_result"
    }
   ],
   "source": [
    "\n",
    "data = []\n",
    "for p in Path('data/').glob('*.txt'):\n",
    "    data.append([p.name, p.read_text()])\n",
    "    \n",
    "df = pd.DataFrame(data, columns = ['title', 'text'])\n",
    "print(len(df), 'FanFiction stories')\n",
    "df.head()"
   ]
  },
  {
   "cell_type": "code",
   "execution_count": 8,
   "metadata": {},
   "outputs": [
    {
     "data": {
      "text/html": [
       "<div>\n",
       "<style scoped>\n",
       "    .dataframe tbody tr th:only-of-type {\n",
       "        vertical-align: middle;\n",
       "    }\n",
       "\n",
       "    .dataframe tbody tr th {\n",
       "        vertical-align: top;\n",
       "    }\n",
       "\n",
       "    .dataframe thead th {\n",
       "        text-align: right;\n",
       "    }\n",
       "</style>\n",
       "<table border=\"1\" class=\"dataframe\">\n",
       "  <thead>\n",
       "    <tr style=\"text-align: right;\">\n",
       "      <th></th>\n",
       "      <th>title</th>\n",
       "      <th>text</th>\n",
       "      <th>language</th>\n",
       "    </tr>\n",
       "  </thead>\n",
       "  <tbody>\n",
       "    <tr>\n",
       "      <th>0</th>\n",
       "      <td>The_Start_of_Our_Life_Together_by_Stagelove123...</td>\n",
       "      <td>\\nChapter 1 Hey guys! So, after I wrote the st...</td>\n",
       "      <td>en</td>\n",
       "    </tr>\n",
       "    <tr>\n",
       "      <th>1</th>\n",
       "      <td>Full_Metal_Stratos_by_Grimm48-g8fp3r2o.txt</td>\n",
       "      <td>\\nChapter 1Full Metal StratosDisclaimer: I don...</td>\n",
       "      <td>en</td>\n",
       "    </tr>\n",
       "    <tr>\n",
       "      <th>2</th>\n",
       "      <td>Expect_The_Unexpected_by_sonxathatbruhgirl-nli...</td>\n",
       "      <td>\\nChapter One A/N: Hiii guys.So I'm doing a ne...</td>\n",
       "      <td>en</td>\n",
       "    </tr>\n",
       "    <tr>\n",
       "      <th>3</th>\n",
       "      <td>A_Rookie_s_Courage_by_CanadaGrizzly-uxc6kcgd.txt</td>\n",
       "      <td>\\nA Rookie's CourageThe wind whipped her hair ...</td>\n",
       "      <td>en</td>\n",
       "    </tr>\n",
       "    <tr>\n",
       "      <th>4</th>\n",
       "      <td>Watashi_koi_shiteru_by_alxslava-q8aodmgc.txt</td>\n",
       "      <td>\\nComprender a una personaWatashi, koi shiteru...</td>\n",
       "      <td>es</td>\n",
       "    </tr>\n",
       "  </tbody>\n",
       "</table>\n",
       "</div>"
      ],
      "text/plain": [
       "                                               title  \\\n",
       "0  The_Start_of_Our_Life_Together_by_Stagelove123...   \n",
       "1         Full_Metal_Stratos_by_Grimm48-g8fp3r2o.txt   \n",
       "2  Expect_The_Unexpected_by_sonxathatbruhgirl-nli...   \n",
       "3   A_Rookie_s_Courage_by_CanadaGrizzly-uxc6kcgd.txt   \n",
       "4       Watashi_koi_shiteru_by_alxslava-q8aodmgc.txt   \n",
       "\n",
       "                                                text language  \n",
       "0  \\nChapter 1 Hey guys! So, after I wrote the st...       en  \n",
       "1  \\nChapter 1Full Metal StratosDisclaimer: I don...       en  \n",
       "2  \\nChapter One A/N: Hiii guys.So I'm doing a ne...       en  \n",
       "3  \\nA Rookie's CourageThe wind whipped her hair ...       en  \n",
       "4  \\nComprender a una personaWatashi, koi shiteru...       es  "
      ]
     },
     "execution_count": 8,
     "metadata": {},
     "output_type": "execute_result"
    }
   ],
   "source": [
    "df = filter_english_records(df)\n",
    "df.head()"
   ]
  },
  {
   "cell_type": "code",
   "execution_count": 9,
   "metadata": {},
   "outputs": [
    {
     "data": {
      "text/html": [
       "<div>\n",
       "<style scoped>\n",
       "    .dataframe tbody tr th:only-of-type {\n",
       "        vertical-align: middle;\n",
       "    }\n",
       "\n",
       "    .dataframe tbody tr th {\n",
       "        vertical-align: top;\n",
       "    }\n",
       "\n",
       "    .dataframe thead th {\n",
       "        text-align: right;\n",
       "    }\n",
       "</style>\n",
       "<table border=\"1\" class=\"dataframe\">\n",
       "  <thead>\n",
       "    <tr style=\"text-align: right;\">\n",
       "      <th></th>\n",
       "      <th>title</th>\n",
       "    </tr>\n",
       "    <tr>\n",
       "      <th>language</th>\n",
       "      <th></th>\n",
       "    </tr>\n",
       "  </thead>\n",
       "  <tbody>\n",
       "    <tr>\n",
       "      <th>en</th>\n",
       "      <td>1742</td>\n",
       "    </tr>\n",
       "    <tr>\n",
       "      <th>es</th>\n",
       "      <td>145</td>\n",
       "    </tr>\n",
       "    <tr>\n",
       "      <th>fr</th>\n",
       "      <td>76</td>\n",
       "    </tr>\n",
       "    <tr>\n",
       "      <th>id</th>\n",
       "      <td>53</td>\n",
       "    </tr>\n",
       "    <tr>\n",
       "      <th>ms</th>\n",
       "      <td>25</td>\n",
       "    </tr>\n",
       "    <tr>\n",
       "      <th>pt</th>\n",
       "      <td>9</td>\n",
       "    </tr>\n",
       "    <tr>\n",
       "      <th>de</th>\n",
       "      <td>5</td>\n",
       "    </tr>\n",
       "    <tr>\n",
       "      <th>vi</th>\n",
       "      <td>3</td>\n",
       "    </tr>\n",
       "    <tr>\n",
       "      <th>zh</th>\n",
       "      <td>2</td>\n",
       "    </tr>\n",
       "    <tr>\n",
       "      <th>el</th>\n",
       "      <td>1</td>\n",
       "    </tr>\n",
       "    <tr>\n",
       "      <th>fi</th>\n",
       "      <td>1</td>\n",
       "    </tr>\n",
       "    <tr>\n",
       "      <th>hu</th>\n",
       "      <td>1</td>\n",
       "    </tr>\n",
       "    <tr>\n",
       "      <th>it</th>\n",
       "      <td>1</td>\n",
       "    </tr>\n",
       "    <tr>\n",
       "      <th>multiple</th>\n",
       "      <td>1</td>\n",
       "    </tr>\n",
       "    <tr>\n",
       "      <th>pl</th>\n",
       "      <td>1</td>\n",
       "    </tr>\n",
       "    <tr>\n",
       "      <th>xh</th>\n",
       "      <td>1</td>\n",
       "    </tr>\n",
       "  </tbody>\n",
       "</table>\n",
       "</div>"
      ],
      "text/plain": [
       "          title\n",
       "language       \n",
       "en         1742\n",
       "es          145\n",
       "fr           76\n",
       "id           53\n",
       "ms           25\n",
       "pt            9\n",
       "de            5\n",
       "vi            3\n",
       "zh            2\n",
       "el            1\n",
       "fi            1\n",
       "hu            1\n",
       "it            1\n",
       "multiple      1\n",
       "pl            1\n",
       "xh            1"
      ]
     },
     "execution_count": 9,
     "metadata": {},
     "output_type": "execute_result"
    }
   ],
   "source": [
    "df.groupby('language').agg({'title':'count'}).sort_values('title', ascending=False)"
   ]
  },
  {
   "cell_type": "markdown",
   "metadata": {},
   "source": [
    "## 4.3 Filter english records"
   ]
  },
  {
   "cell_type": "code",
   "execution_count": 10,
   "metadata": {},
   "outputs": [
    {
     "name": "stdout",
     "output_type": "stream",
     "text": [
      "total records 2067\n",
      "English total records 1742\n"
     ]
    }
   ],
   "source": [
    "print('total records', len(df))\n",
    "df = df[df['language'].str.contains(\"en\")]\n",
    "df.to_csv('fanfiction_english_records.csv', index=False, sep=\"|\")\n",
    "print('English total records', len(df))"
   ]
  },
  {
   "cell_type": "markdown",
   "metadata": {},
   "source": [
    "# 5. Exporting to HTML"
   ]
  },
  {
   "cell_type": "code",
   "execution_count": 11,
   "metadata": {},
   "outputs": [
    {
     "name": "stdout",
     "output_type": "stream",
     "text": [
      "[NbConvertApp] Converting notebook filtering_english_texts_cld3.ipynb to html\n",
      "[NbConvertApp] Writing 589411 bytes to htmls/filtering_english_texts_cld3.html\n"
     ]
    }
   ],
   "source": [
    "!jupyter nbconvert --output-dir 'htmls/' --to html filtering_english_texts_cld3.ipynb"
   ]
  },
  {
   "cell_type": "code",
   "execution_count": null,
   "metadata": {},
   "outputs": [],
   "source": []
  }
 ],
 "metadata": {
  "kernelspec": {
   "display_name": "Python 3",
   "language": "python",
   "name": "python3"
  },
  "language_info": {
   "codemirror_mode": {
    "name": "ipython",
    "version": 3
   },
   "file_extension": ".py",
   "mimetype": "text/x-python",
   "name": "python",
   "nbconvert_exporter": "python",
   "pygments_lexer": "ipython3",
   "version": "3.8.5"
  }
 },
 "nbformat": 4,
 "nbformat_minor": 5
}
